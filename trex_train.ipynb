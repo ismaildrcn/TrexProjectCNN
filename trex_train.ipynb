{
 "cells": [
  {
   "cell_type": "markdown",
   "id": "84ef9ff3",
   "metadata": {},
   "source": [
    "# Import Library"
   ]
  },
  {
   "cell_type": "code",
   "execution_count": 26,
   "id": "46f668df",
   "metadata": {},
   "outputs": [],
   "source": [
    "import glob\n",
    "import os\n",
    "import numpy as np\n",
    "from keras.models import Sequential\n",
    "from keras.layers import Dense, Dropout, Flatten, Conv2D, MaxPooling2D\n",
    "from PIL import Image\n",
    "from sklearn.preprocessing import LabelEncoder, OneHotEncoder\n",
    "from sklearn.model_selection import train_test_split\n",
    "import seaborn as sns\n",
    "\n",
    "import warnings\n",
    "warnings.filterwarnings(\"ignore\")"
   ]
  },
  {
   "cell_type": "markdown",
   "id": "c1605ab5",
   "metadata": {},
   "source": [
    "# Import Data and Normalization"
   ]
  },
  {
   "cell_type": "code",
   "execution_count": 27,
   "id": "198105d3",
   "metadata": {},
   "outputs": [],
   "source": [
    "imgs = glob.glob(\"./img/*.png\")\n",
    "\n",
    "width = 125\n",
    "height = 50\n",
    "\n",
    "X = []\n",
    "Y = []\n",
    "\n",
    "for img in imgs:\n",
    "    \n",
    "    filename = os.path.basename(img)\n",
    "    label = filename.split(\"_\")[0]\n",
    "    im = np.array(Image.open(img).convert(\"L\").resize((width,height)))\n",
    "    im = im / 255 # Normalizasyon\n",
    "    X.append(im)\n",
    "    Y.append(label)\n",
    "    \n",
    "X = np.array(X)\n",
    "X = X.reshape(X.shape[0], width, height, 1)"
   ]
  },
  {
   "cell_type": "code",
   "execution_count": 28,
   "id": "10353031",
   "metadata": {},
   "outputs": [],
   "source": [
    "def onehot_labels(values):\n",
    "    label_encoder = LabelEncoder()\n",
    "    integer_encoded = label_encoder.fit_transform(values)\n",
    "    \n",
    "    onehot_encoder = OneHotEncoder(sparse = False)\n",
    "    integer_encoded = integer_encoded.reshape(len(integer_encoded), 1)\n",
    "    onehot_encoded = onehot_encoder.fit_transform(integer_encoded)\n",
    "    return onehot_encoded\n",
    "Y = onehot_labels(Y)"
   ]
  },
  {
   "cell_type": "markdown",
   "id": "e08d753f",
   "metadata": {},
   "source": [
    "# Split Data"
   ]
  },
  {
   "cell_type": "code",
   "execution_count": 29,
   "id": "71e660f8",
   "metadata": {},
   "outputs": [
    {
     "name": "stdout",
     "output_type": "stream",
     "text": [
      "Train shape: (126, 125, 50, 1)\n",
      "Test shape: (43, 125, 50, 1)\n"
     ]
    }
   ],
   "source": [
    "train_X, test_X, train_y, test_y = train_test_split(X, Y, test_size = 0.25, random_state = 2)\n",
    "print(\"Train shape: {}\".format(train_X.shape))\n",
    "print(\"Test shape: {}\".format(test_X.shape))"
   ]
  },
  {
   "cell_type": "markdown",
   "id": "f0d8c91d",
   "metadata": {},
   "source": [
    "# Create Model"
   ]
  },
  {
   "cell_type": "code",
   "execution_count": 30,
   "id": "d39d9a11",
   "metadata": {},
   "outputs": [],
   "source": [
    "model = Sequential()\n",
    "model.add(Conv2D(32, kernel_size=(3,3), activation= \"relu\", input_shape = (width, height, 1)))\n",
    "model.add(Conv2D(64, kernel_size=(3,3), activation= \"relu\"))\n",
    "model.add(MaxPooling2D(pool_size=(2,2)))\n",
    "model.add(Dropout(0.25))\n",
    "model.add(Flatten())\n",
    "model.add(Dense(128, activation=\"relu\"))\n",
    "model.add(Dropout(0.4))\n",
    "model.add(Dense(3, activation=\"softmax\"))"
   ]
  },
  {
   "cell_type": "markdown",
   "id": "8f82235a",
   "metadata": {},
   "source": [
    "# Load Model "
   ]
  },
  {
   "cell_type": "code",
   "execution_count": null,
   "id": "c05e54dd",
   "metadata": {},
   "outputs": [],
   "source": [
    "if os.path.exists(\"./trex_weight.h5\"):\n",
    "    model.load_weights(\"trex_weight.h5\")\n",
    "    print(\"Load Model!\")"
   ]
  },
  {
   "cell_type": "markdown",
   "id": "1a72da80",
   "metadata": {},
   "source": [
    "# Model Training "
   ]
  },
  {
   "cell_type": "code",
   "execution_count": 31,
   "id": "9179014a",
   "metadata": {},
   "outputs": [],
   "source": [
    "model.compile(loss= \"categorical_crossentropy\", optimizer = \"Adam\", metrics= [\"accuracy\"])"
   ]
  },
  {
   "cell_type": "code",
   "execution_count": 32,
   "id": "7e22779b",
   "metadata": {},
   "outputs": [
    {
     "name": "stdout",
     "output_type": "stream",
     "text": [
      "Epoch 1/35\n",
      "2/2 [==============================] - 1s 394ms/step - loss: 7.2782 - accuracy: 0.5079\n",
      "Epoch 2/35\n",
      "2/2 [==============================] - 1s 323ms/step - loss: 6.4936 - accuracy: 0.4048\n",
      "Epoch 3/35\n",
      "2/2 [==============================] - 1s 362ms/step - loss: 2.3856 - accuracy: 0.5476\n",
      "Epoch 4/35\n",
      "2/2 [==============================] - 1s 354ms/step - loss: 1.0847 - accuracy: 0.5079\n",
      "Epoch 5/35\n",
      "2/2 [==============================] - 1s 321ms/step - loss: 0.9049 - accuracy: 0.4921\n",
      "Epoch 6/35\n",
      "2/2 [==============================] - 1s 356ms/step - loss: 0.7599 - accuracy: 0.6032\n",
      "Epoch 7/35\n",
      "2/2 [==============================] - 1s 349ms/step - loss: 0.6640 - accuracy: 0.7857\n",
      "Epoch 8/35\n",
      "2/2 [==============================] - 1s 321ms/step - loss: 0.5935 - accuracy: 0.8095\n",
      "Epoch 9/35\n",
      "2/2 [==============================] - 1s 338ms/step - loss: 0.5627 - accuracy: 0.7619\n",
      "Epoch 10/35\n",
      "2/2 [==============================] - 1s 372ms/step - loss: 0.5198 - accuracy: 0.8175\n",
      "Epoch 11/35\n",
      "2/2 [==============================] - 1s 455ms/step - loss: 0.5100 - accuracy: 0.8175\n",
      "Epoch 12/35\n",
      "2/2 [==============================] - 1s 349ms/step - loss: 0.4572 - accuracy: 0.8254\n",
      "Epoch 13/35\n",
      "2/2 [==============================] - 1s 326ms/step - loss: 0.4206 - accuracy: 0.8175\n",
      "Epoch 14/35\n",
      "2/2 [==============================] - 1s 343ms/step - loss: 0.3779 - accuracy: 0.8254\n",
      "Epoch 15/35\n",
      "2/2 [==============================] - 1s 339ms/step - loss: 0.3659 - accuracy: 0.8492\n",
      "Epoch 16/35\n",
      "2/2 [==============================] - 1s 328ms/step - loss: 0.3680 - accuracy: 0.8651\n",
      "Epoch 17/35\n",
      "2/2 [==============================] - 1s 354ms/step - loss: 0.3396 - accuracy: 0.8254\n",
      "Epoch 18/35\n",
      "2/2 [==============================] - 1s 332ms/step - loss: 0.2798 - accuracy: 0.9127\n",
      "Epoch 19/35\n",
      "2/2 [==============================] - 1s 332ms/step - loss: 0.2788 - accuracy: 0.9048\n",
      "Epoch 20/35\n",
      "2/2 [==============================] - 1s 365ms/step - loss: 0.2435 - accuracy: 0.9286\n",
      "Epoch 21/35\n",
      "2/2 [==============================] - 1s 389ms/step - loss: 0.2225 - accuracy: 0.9603\n",
      "Epoch 22/35\n",
      "2/2 [==============================] - 1s 446ms/step - loss: 0.2399 - accuracy: 0.9206\n",
      "Epoch 23/35\n",
      "2/2 [==============================] - 1s 543ms/step - loss: 0.1957 - accuracy: 0.9524\n",
      "Epoch 24/35\n",
      "2/2 [==============================] - 1s 461ms/step - loss: 0.1804 - accuracy: 0.9524\n",
      "Epoch 25/35\n",
      "2/2 [==============================] - 1s 517ms/step - loss: 0.1510 - accuracy: 0.9683\n",
      "Epoch 26/35\n",
      "2/2 [==============================] - 1s 387ms/step - loss: 0.1878 - accuracy: 0.9524\n",
      "Epoch 27/35\n",
      "2/2 [==============================] - 1s 497ms/step - loss: 0.1537 - accuracy: 0.9603\n",
      "Epoch 28/35\n",
      "2/2 [==============================] - 1s 360ms/step - loss: 0.0922 - accuracy: 0.9921\n",
      "Epoch 29/35\n",
      "2/2 [==============================] - 1s 425ms/step - loss: 0.1708 - accuracy: 0.9444\n",
      "Epoch 30/35\n",
      "2/2 [==============================] - 1s 407ms/step - loss: 0.1217 - accuracy: 0.9683\n",
      "Epoch 31/35\n",
      "2/2 [==============================] - 1s 416ms/step - loss: 0.0879 - accuracy: 0.9921\n",
      "Epoch 32/35\n",
      "2/2 [==============================] - 1s 362ms/step - loss: 0.0842 - accuracy: 0.9841\n",
      "Epoch 33/35\n",
      "2/2 [==============================] - 1s 343ms/step - loss: 0.0799 - accuracy: 0.9921\n",
      "Epoch 34/35\n",
      "2/2 [==============================] - 1s 343ms/step - loss: 0.0878 - accuracy: 0.9921\n",
      "Epoch 35/35\n",
      "2/2 [==============================] - 1s 352ms/step - loss: 0.0725 - accuracy: 0.9921\n"
     ]
    },
    {
     "data": {
      "text/plain": [
       "<keras.callbacks.History at 0x2285540f850>"
      ]
     },
     "execution_count": 32,
     "metadata": {},
     "output_type": "execute_result"
    }
   ],
   "source": [
    "model.fit(train_X, train_y, epochs = 35, batch_size = 64)"
   ]
  },
  {
   "cell_type": "code",
   "execution_count": 33,
   "id": "82e43dcc",
   "metadata": {},
   "outputs": [
    {
     "name": "stdout",
     "output_type": "stream",
     "text": [
      "4/4 [==============================] - 0s 35ms/step - loss: 0.0399 - accuracy: 1.0000\n",
      "Egitim Dogrulugu: % 100.0\n",
      "2/2 [==============================] - 0s 18ms/step - loss: 0.0976 - accuracy: 0.9767\n",
      "Test Dogrulugu: % 97.67441749572754\n"
     ]
    }
   ],
   "source": [
    "score_train = model.evaluate(train_X, train_y)\n",
    "print(\"Egitim Dogrulugu: %\", score_train[1]*100)\n",
    "\n",
    "score_test = model.evaluate(test_X, test_y)\n",
    "print(\"Test Dogrulugu: %\", score_test[1]*100)"
   ]
  },
  {
   "cell_type": "markdown",
   "id": "536acdeb",
   "metadata": {},
   "source": [
    "# Model Save"
   ]
  },
  {
   "cell_type": "code",
   "execution_count": 36,
   "id": "a5bb67ad",
   "metadata": {},
   "outputs": [],
   "source": [
    "open(\"model.json\", \"w\").write(model.to_json())\n",
    "model.save_weights(\"trex_weight.h5\")"
   ]
  }
 ],
 "metadata": {
  "kernelspec": {
   "display_name": "Python 3 (ipykernel)",
   "language": "python",
   "name": "python3"
  },
  "language_info": {
   "codemirror_mode": {
    "name": "ipython",
    "version": 3
   },
   "file_extension": ".py",
   "mimetype": "text/x-python",
   "name": "python",
   "nbconvert_exporter": "python",
   "pygments_lexer": "ipython3",
   "version": "3.9.13"
  }
 },
 "nbformat": 4,
 "nbformat_minor": 5
}
